{
 "cells": [
  {
   "cell_type": "code",
   "execution_count": null,
   "id": "5a33b9b8-3641-4bda-88f4-1efeb5dc8b2c",
   "metadata": {},
   "outputs": [],
   "source": [
    "\"\"\"TITLE:Analyze maternal and child health indicators like mortality and immunization rates.\n",
    "    Project ID: CBIT/IT-1/EDAV/2025/CEP-36\n",
    "    Roll No: 160124737007\n",
    "    Name: D Hari Niveditha\n",
    "    Department of Information Technology\n",
    "    Chaitanya Bharathi Institute of Technology,Hyderabad\n",
    "\n",
    "Problem Overview:\n",
    "Maternal and child health are vital for a country's development. Analyzing the provided data on maternal, infant, and under-5 mortality rates,\n",
    "along with immunization coverage and health expenditure, helps to pinpoint trends, disparities, and areas that require policy intervention in \n",
    "India. This analysis is crucial for improving health outcomes.\n",
    "DataSetLink:\n",
    "         https://drive.google.com/drive/u/0/folders/1WMelphGXC8dva9_GsBM8Q7C73lj2tKLU,
    "\n",
    "Environment:\n",
    "            python --version:  Python 3.13.5\n",
    "            Libraries Used:numpy,pandas\n",
    "\"\"\"\n"
   ]
  },
  {
   "cell_type": "code",
   "execution_count": 2,
   "id": "d75f431c-080a-4639-9a2a-c60516a7742f",
   "metadata": {},
   "outputs": [
    {
     "name": "stdout",
     "output_type": "stream",
     "text": [
      "Index(['Country', 'State', 'Year', 'Age_Group', 'Maternal_Mortality_Rate',\n",
      "       'Infant_Mortality_Rate', 'Under5_Mortality_Rate',\n",
      "       'Immunization_Coverage', 'Health_Expenditure_PerCapita', 'Urban_Rural'],\n",
      "      dtype='object')\n",
      "First 5 rows: \n",
      "   Country      State  Year    Age_Group  Maternal_Mortality_Rate  \\\n",
      "0   India  Telangana  2018      <1 year                    162.0   \n",
      "1   India  Telangana  2018      <1 year                    270.0   \n",
      "2   India  Telangana  2018    1-5 years                    209.0   \n",
      "3   India  Telangana  2018    1-5 years                    263.0   \n",
      "4   India  Telangana  2018  15-49 years                    229.0   \n",
      "\n",
      "   Infant_Mortality_Rate  Under5_Mortality_Rate  Immunization_Coverage  \\\n",
      "0                     43                     51                   80.0   \n",
      "1                     37                     41                   80.0   \n",
      "2                     16                     25                   81.0   \n",
      "3                     36                     42                   81.0   \n",
      "4                     42                     47                   85.0   \n",
      "\n",
      "   Health_Expenditure_PerCapita Urban_Rural  \n",
      "0                          6691       Urban  \n",
      "1                          4944       Rural  \n",
      "2                          3933       Urban  \n",
      "3                          4404       Rural  \n",
      "4                          3306       Urban   \n",
      "\n"
     ]
    }
   ],
   "source": [
    "#importing the required libraries \n",
    "import pandas as pd\n",
    "import numpy as np\n",
    "\n",
    "#loading dataset from the file path\n",
    "df = pd.read_csv(\"C:\\\\Users\\\\siric\\\\Downloads\\\\maternal_child_health_india_clean.csv\")\n",
    "print(df.columns) #displaying column names of the dataset\n",
    "#displaying first 5 rows\n",
    "print(\"First 5 rows: \\n\", df.head(),\"\\n\")"
   ]
  },
  {
   "cell_type": "code",
   "execution_count": 3,
   "id": "afd74e99-e39b-45f8-ac29-cffd7f8bdbf6",
   "metadata": {},
   "outputs": [
    {
     "name": "stdout",
     "output_type": "stream",
     "text": [
      "Maternal Mortality Rate - Statistics \n",
      "\n",
      "Mean:  161.8544776119403\n",
      "Median:  158.0\n",
      "Min:  40.0\n",
      "Max:  299.0\n",
      "Standard deviation:  75.97990024437394\n",
      "\n",
      "Infant Mortality Rate - Statistics\n",
      "\n",
      "Mean:  32.25373134328358\n",
      "Median:  31.5\n",
      "Min:  5\n",
      "Max:  59\n",
      "Standard deviation:  14.832742405607508\n",
      "\n",
      "Under Five Mortality Rate - Statistics\n",
      "\n",
      "Mean:  37.649253731343286\n",
      "Median:  37.0\n",
      "Min:  9\n",
      "Max:  67\n",
      "Standard deviation:  14.826739389886784\n"
     ]
    }
   ],
   "source": [
    "#Question1: Calculate mortality rates using numpy(Bloom's Level: 3)\n",
    "# Drop rows with missing values to ensure clean analysis\n",
    "dfDropna = df.dropna()\n",
    "\n",
    "# Select only the columns related to mortality rates for focused analysis\n",
    "dfMaternal = dfDropna[[\"Maternal_Mortality_Rate\", \"Infant_Mortality_Rate\", \"Under5_Mortality_Rate\"]]\n",
    "\n",
    "# Maternal Mortality Rate Analysis\n",
    "print(\"Maternal Mortality Rate - Statistics \\n\")\n",
    "\n",
    "print(\"Mean: \",np.mean(dfMaternal[\"Maternal_Mortality_Rate\"]))\n",
    "print(\"Median: \",np.median(dfMaternal[\"Maternal_Mortality_Rate\"]))\n",
    "print(\"Min: \",np.min(dfMaternal[\"Maternal_Mortality_Rate\"]))\n",
    "print(\"Max: \",np.max(dfMaternal[\"Maternal_Mortality_Rate\"]))\n",
    "print(\"Standard deviation: \",np.std(dfMaternal[\"Maternal_Mortality_Rate\"]))\n",
    "\n",
    "# Infant Mortality Rate Analysis\n",
    "print(\"\\nInfant Mortality Rate - Statistics\\n\")\n",
    "\n",
    "print(\"Mean: \",np.mean(dfMaternal[\"Infant_Mortality_Rate\"]))\n",
    "print(\"Median: \",np.median(dfMaternal[\"Infant_Mortality_Rate\"]))\n",
    "print(\"Min: \",np.min(dfMaternal[\"Infant_Mortality_Rate\"]))\n",
    "print(\"Max: \",np.max(dfMaternal[\"Infant_Mortality_Rate\"]))\n",
    "print(\"Standard deviation: \",np.std(dfMaternal[\"Infant_Mortality_Rate\"]))\n",
    "\n",
    "# Under-Five Mortality Rate Analysis\n",
    "print(\"\\nUnder Five Mortality Rate - Statistics\\n\")\n",
    "\n",
    "print(\"Mean: \",np.mean(dfMaternal[\"Under5_Mortality_Rate\"]))\n",
    "print(\"Median: \",np.median(dfMaternal[\"Under5_Mortality_Rate\"]))\n",
    "print(\"Min: \",np.min(dfMaternal[\"Under5_Mortality_Rate\"]))\n",
    "print(\"Max: \",np.max(dfMaternal[\"Under5_Mortality_Rate\"]))\n",
    "print(\"Standard deviation: \",np.std(dfMaternal[\"Under5_Mortality_Rate\"]))"
   ]
  },
  {
   "cell_type": "code",
   "execution_count": 4,
   "id": "bddcc9c2-1af5-4b2c-afd0-2f42b4f6359a",
   "metadata": {},
   "outputs": [
    {
     "name": "stdout",
     "output_type": "stream",
     "text": [
      "   Country      State  Year    Age_Group  Maternal_Mortality_Rate  \\\n",
      "12   India  Telangana  2020      <1 year                    267.0   \n",
      "13   India  Telangana  2020      <1 year                    247.0   \n",
      "14   India  Telangana  2020    1-5 years                    147.0   \n",
      "15   India  Telangana  2020    1-5 years                    195.0   \n",
      "16   India  Telangana  2020  15-49 years                    100.0   \n",
      "17   India  Telangana  2020  15-49 years                    210.0   \n",
      "\n",
      "    Infant_Mortality_Rate  Under5_Mortality_Rate  Immunization_Coverage  \\\n",
      "12                     59                     62                   84.0   \n",
      "13                     59                     61                   84.0   \n",
      "14                     15                     20                    NaN   \n",
      "15                     49                     53                   70.0   \n",
      "16                     42                     50                   78.0   \n",
      "17                     38                     44                   72.0   \n",
      "\n",
      "    Health_Expenditure_PerCapita Urban_Rural  \n",
      "12                          2576       Urban  \n",
      "13                          5384       Rural  \n",
      "14                          2995       Urban  \n",
      "15                          5974       Rural  \n",
      "16                          6375       Urban  \n",
      "17                          4231       Rural  \n"
     ]
    }
   ],
   "source": [
    "#Question2: Filter data by region and year(Bloom's Level: 3)\n",
    "# Define the region and year you want to filter\n",
    "state_name = \"Telangana\"  #Region to analyse\n",
    "year = 2020   #Year to analyse\n",
    "#Filter the DataFrame based on state and year\n",
    "filtered_df = df[(df[\"State\"] == state_name) & (df[\"Year\"] == year)]\n",
    "# Display the filtered subset of data\n",
    "print(filtered_df)"
   ]
  },
  {
   "cell_type": "code",
   "execution_count": 5,
   "id": "271f32ce-f7db-4e4c-bc49-c8f2f49f5d31",
   "metadata": {},
   "outputs": [
    {
     "name": "stdout",
     "output_type": "stream",
     "text": [
      "No.of empty immunization coverage values before filling\n",
      "10\n",
      "\n",
      "Immunization_Coverage:\n",
      " 0      80.0\n",
      "1      80.0\n",
      "2      81.0\n",
      "3      81.0\n",
      "4      85.0\n",
      "       ... \n",
      "295    71.0\n",
      "296    84.0\n",
      "297    71.0\n",
      "298    81.0\n",
      "299    79.0\n",
      "Name: Immunization_Coverage, Length: 300, dtype: float64\n",
      "No.of empty immunization coverage values after filling\n",
      "0\n"
     ]
    }
   ],
   "source": [
    "#Question3: Fill missing health indicator values (Bloom's Level: 4)\n",
    "# Display the number of missing values in the 'Immunization_Coverage' column before filling\n",
    "print(\"No.of empty immunization coverage values before filling\")\n",
    "print(df[\"Immunization_Coverage\"].isnull().sum())\n",
    "\n",
    "# Fill the missing values in 'Immunization_Coverage' with mean value of the column\n",
    "#using inplace will apply the changes directly in the dataframe\n",
    "df.fillna({\"Immunization_Coverage\": df[\"Immunization_Coverage\"].mean()},inplace=True)\n",
    "print(\"\\nImmunization_Coverage:\\n\",df[\"Immunization_Coverage\"])\n",
    "\n",
    "# verify whether the number of missing values in the 'Immunization_Coverage' column after filling are zero\n",
    "print(\"No.of empty immunization coverage values after filling\")\n",
    "print(df[\"Immunization_Coverage\"].isnull().sum())"
   ]
  },
  {
   "cell_type": "code",
   "execution_count": 6,
   "id": "70cfdb16-9b7c-472d-99bc-46c2af77c740",
   "metadata": {},
   "outputs": [
    {
     "name": "stdout",
     "output_type": "stream",
     "text": [
      "                         Maternal_Mortality_Rate  Infant_Mortality_Rate  \\\n",
      "Age_Group   Urban_Rural                                                   \n",
      "1-5 years   Rural                     160.511628                  30.54   \n",
      "            Urban                     156.914894                  32.24   \n",
      "15-49 years Rural                     151.625000                  31.82   \n",
      "            Urban                     173.520833                  33.28   \n",
      "<1 year     Rural                     159.772727                  30.54   \n",
      "            Urban                     164.500000                  34.42   \n",
      "\n",
      "                         Under5_Mortality_Rate  \n",
      "Age_Group   Urban_Rural                         \n",
      "1-5 years   Rural                        35.68  \n",
      "            Urban                        38.16  \n",
      "15-49 years Rural                        36.96  \n",
      "            Urban                        38.60  \n",
      "<1 year     Rural                        35.86  \n",
      "            Urban                        39.64  \n"
     ]
    }
   ],
   "source": [
    "#Q4: Group data by age and location (Bloom's Level: 4)\n",
    "# Group the DataFrame 'df' by 'Age_Group' and 'Urban_Rural' columns\n",
    "# For each group, calculate the mean of the specified mortality rate columns\n",
    "\n",
    "df_grouped = df.groupby([\"Age_Group\", \"Urban_Rural\"])[[\"Maternal_Mortality_Rate\", \"Infant_Mortality_Rate\", \"Under5_Mortality_Rate\"]].mean()\n",
    "\n",
    "#Print the grouped DataFrame\n",
    "print(df_grouped)"
   ]
  },
  {
   "cell_type": "code",
   "execution_count": null,
   "id": "9668645d-6a60-4c0b-9e88-d05e6beaf9ef",
   "metadata": {},
   "outputs": [],
   "source": []
  }
 ],
 "metadata": {
  "kernelspec": {
   "display_name": "Python [conda env:base] *",
   "language": "python",
   "name": "conda-base-py"
  },
  "language_info": {
   "codemirror_mode": {
    "name": "ipython",
    "version": 3
   },
   "file_extension": ".py",
   "mimetype": "text/x-python",
   "name": "python",
   "nbconvert_exporter": "python",
   "pygments_lexer": "ipython3",
   "version": "3.13.5"
  }
 },
 "nbformat": 4,
 "nbformat_minor": 5
}
